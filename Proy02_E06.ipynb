{
 "cells": [
  {
   "cell_type": "code",
   "execution_count": 1,
   "id": "950f142e",
   "metadata": {},
   "outputs": [],
   "source": [
    ";funcion utilizada en el problema 5 & 1\n",
    "(define (fac n)\n",
    "  (if (<= n 1) 1 (* n (fac (- n 1))))\n",
    "  )\n"
   ]
  },
  {
   "cell_type": "code",
   "execution_count": 2,
   "id": "f7773d78",
   "metadata": {},
   "outputs": [],
   "source": [
    ";------------------  Problema 1 ------------------\n",
    "(define (coef_bin n k)\n",
    "  (cond\n",
    "      [(< n 0) (error 'nArgumentLessThan0)]\n",
    "      [(or (< k 0) (> k n)) (error 'kNumberNotInCorrectRange)]\n",
    "      [else (/ (fac n) (* (fac (- n k)) (fac k)))]\n",
    "   )\n",
    "  )"
   ]
  },
  {
   "cell_type": "code",
   "execution_count": 3,
   "id": "12ea3540",
   "metadata": {
    "scrolled": true
   },
   "outputs": [
    {
     "data": {
      "text/html": [
       "<code>4</code>"
      ],
      "text/plain": [
       "4"
      ]
     },
     "execution_count": 3,
     "metadata": {},
     "output_type": "execute_result"
    }
   ],
   "source": [
    "(coef_bin 4 3)"
   ]
  },
  {
   "cell_type": "code",
   "execution_count": 1,
   "id": "61b168fe",
   "metadata": {},
   "outputs": [],
   "source": [
    ";------------------  Problema 4 ------------------\n",
    "#|\n",
    "Definir una función que devuelva, en una lista, todos los números primos desde un\n",
    "número inicial hasta un número final, ejemplo: (primos 3 10) este ejemplo\n",
    "devolverá ‘(5 7).\n",
    "|#\n",
    "\n",
    "(define (num_primos a b)\n",
    "  (define lista_primos'())\n",
    "(for([i (in-range a (+ 1 b))]) \n",
    "  (if (es_num_primo i 2)(set! lista_primos(cons i lista_primos)) null)\n",
    "    )\n",
    "  (reverse lista_primos)\n",
    "  )\n",
    "\n",
    "(define (es_num_primo a n)\n",
    "  (cond\n",
    "    [(< a 3) (if (= a 2) #t #f)]\n",
    "    [(= 0 (modulo a n)) #f]\n",
    "    [(< a (* n n)) #t]\n",
    "   [else (es_num_primo a (+ 1 n))]\n",
    "   )\n",
    "  )\n"
   ]
  },
  {
   "cell_type": "code",
   "execution_count": 6,
   "id": "4a2f22af",
   "metadata": {},
   "outputs": [
    {
     "data": {
      "text/html": [
       "<code>'(53 59 61 67 71 73 79 83 89 97)</code>"
      ],
      "text/plain": [
       "'(53 59 61 67 71 73 79 83 89 97)"
      ]
     },
     "execution_count": 6,
     "metadata": {},
     "output_type": "execute_result"
    }
   ],
   "source": [
    "(num_primos 50 100)"
   ]
  },
  {
   "cell_type": "markdown",
   "id": "f9df8c6e",
   "metadata": {},
   "source": [
    "##### ;------------------  Problema 5 ------------------\n",
    "\n",
    "(define (funcE n)\n",
    "  (if (<= n 0) \n",
    "      (fac 0) \n",
    "      (+ (/ 1 (fac n)) (funcE (- n 1)))\n",
    "    )\n",
    "  )"
   ]
  },
  {
   "cell_type": "code",
   "execution_count": 5,
   "id": "94fe553c",
   "metadata": {
    "scrolled": true
   },
   "outputs": [
    {
     "data": {
      "text/html": [
       "<code>9864101/3628800</code>"
      ],
      "text/plain": [
       "9864101/3628800"
      ]
     },
     "execution_count": 5,
     "metadata": {},
     "output_type": "execute_result"
    }
   ],
   "source": [
    "(funcE 10)"
   ]
  },
  {
   "cell_type": "code",
   "execution_count": 6,
   "id": "773d9f29",
   "metadata": {},
   "outputs": [],
   "source": [
    ";------------------  Problema 6 ------------------\n",
    "(define (len list)\n",
    "  (cond \n",
    "   [(null? list) 0]\n",
    "   [else (+ 1 (len (cdr list)))]\n",
    "   )\n",
    "  )"
   ]
  },
  {
   "cell_type": "code",
   "execution_count": 7,
   "id": "6da45a0c",
   "metadata": {},
   "outputs": [
    {
     "data": {
      "text/html": [
       "<code>3</code>"
      ],
      "text/plain": [
       "3"
      ]
     },
     "execution_count": 7,
     "metadata": {},
     "output_type": "execute_result"
    }
   ],
   "source": [
    "(len '(1 3 1))"
   ]
  },
  {
   "cell_type": "code",
   "execution_count": 8,
   "id": "e23b8416",
   "metadata": {},
   "outputs": [],
   "source": [
    ";------------------  Problema 7 ------------------\n",
    "(define (find elem list)\n",
    "  (cond \n",
    "   [(null? list) #f]\n",
    "   [(= elem (car list)) #t]\n",
    "   [else (find elem (cdr list))]\n",
    "   )\n",
    "  )"
   ]
  },
  {
   "cell_type": "code",
   "execution_count": 9,
   "id": "6b7eb94b",
   "metadata": {},
   "outputs": [
    {
     "data": {
      "text/html": [
       "<code>#t</code>"
      ],
      "text/plain": [
       "#t"
      ]
     },
     "execution_count": 9,
     "metadata": {},
     "output_type": "execute_result"
    }
   ],
   "source": [
    "(find 4 '( 3 1 4 1 ))"
   ]
  },
  {
   "cell_type": "code",
   "execution_count": 10,
   "id": "2e43f167",
   "metadata": {},
   "outputs": [],
   "source": [
    ";------------------  Problema 8 ------------------\n",
    "(define (inverse lst)\n",
    "  (if (null? lst) '()\n",
    "      (append (inverse (cdr lst)) (list (car lst)))\n",
    "   )\n",
    "  )"
   ]
  },
  {
   "cell_type": "code",
   "execution_count": 11,
   "id": "d7e52069",
   "metadata": {},
   "outputs": [
    {
     "data": {
      "text/html": [
       "<code>'(5 4 3 2 1)</code>"
      ],
      "text/plain": [
       "'(5 4 3 2 1)"
      ]
     },
     "execution_count": 11,
     "metadata": {},
     "output_type": "execute_result"
    }
   ],
   "source": [
    "(inverse '(1 2 3 4 5))"
   ]
  },
  {
   "cell_type": "code",
   "execution_count": 12,
   "id": "4506b898",
   "metadata": {},
   "outputs": [],
   "source": [
    ";------------------  Problema 9 ------------------\n",
    "(define (del elem lst)\n",
    "  (cond \n",
    "   [(null? lst) '()]\n",
    "   [(= elem (car lst)) (cdr lst)]\n",
    "   [else (append (list (car lst)) (del elem (cdr lst)))]\n",
    "   )\n",
    "  )"
   ]
  },
  {
   "cell_type": "code",
   "execution_count": 13,
   "id": "c030635e",
   "metadata": {
    "scrolled": false
   },
   "outputs": [
    {
     "data": {
      "text/html": [
       "<code>'(1 3 5)</code>"
      ],
      "text/plain": [
       "'(1 3 5)"
      ]
     },
     "execution_count": 13,
     "metadata": {},
     "output_type": "execute_result"
    }
   ],
   "source": [
    "(del 4 (del 4 '(1 3 5 4 4)))"
   ]
  },
  {
   "cell_type": "code",
   "execution_count": 14,
   "id": "0221b42e",
   "metadata": {},
   "outputs": [],
   "source": [
    ";------------------ Problema 10 (siguiente celdas hasta el final)-----------------------------------\n",
    "\n",
    "\n",
    "(define (pot base exp)\n",
    "  (if (= exp 0) 1 (* base (pot base (- exp 1))))\n",
    ")"
   ]
  },
  {
   "cell_type": "code",
   "execution_count": 15,
   "id": "114717e2",
   "metadata": {},
   "outputs": [
    {
     "data": {
      "text/html": [
       "<code>16</code>"
      ],
      "text/plain": [
       "16"
      ]
     },
     "execution_count": 15,
     "metadata": {},
     "output_type": "execute_result"
    }
   ],
   "source": [
    "(pot 2 4)"
   ]
  },
  {
   "cell_type": "code",
   "execution_count": 16,
   "id": "8e70f107",
   "metadata": {},
   "outputs": [],
   "source": [
    "(define (applied lst func)\n",
    "  (if(null? lst) '()\n",
    "      (append (list (func (car lst))) (applied (cdr lst) func) )\n",
    "   )\n",
    "  )"
   ]
  },
  {
   "cell_type": "code",
   "execution_count": 17,
   "id": "0db2a7e8",
   "metadata": {},
   "outputs": [
    {
     "data": {
      "text/html": [
       "<code>'(1 4 9 16 25)</code>"
      ],
      "text/plain": [
       "'(1 4 9 16 25)"
      ]
     },
     "execution_count": 17,
     "metadata": {},
     "output_type": "execute_result"
    }
   ],
   "source": [
    "(define (to2 n)\n",
    "  (* n n)\n",
    "  )\n",
    "\n",
    "(applied '(1 2 3 4 5) to2)"
   ]
  },
  {
   "cell_type": "code",
   "execution_count": 18,
   "id": "24c3d928",
   "metadata": {},
   "outputs": [],
   "source": [
    "(define (sum lst)\n",
    "  (if (null? lst) 0\n",
    "     (+ (car lst) (sum (cdr lst)))\n",
    "  )\n",
    ")"
   ]
  },
  {
   "cell_type": "code",
   "execution_count": 19,
   "id": "900fe206",
   "metadata": {},
   "outputs": [
    {
     "data": {
      "text/html": [
       "<code>15</code>"
      ],
      "text/plain": [
       "15"
      ]
     },
     "execution_count": 19,
     "metadata": {},
     "output_type": "execute_result"
    }
   ],
   "source": [
    "(sum '(1 2 3 4 5))"
   ]
  },
  {
   "cell_type": "code",
   "execution_count": 20,
   "id": "8d2314dc",
   "metadata": {},
   "outputs": [],
   "source": [
    "(define (make-function-MinosMedianToN median exp)\n",
    "  (lambda (x) (pot (- x median) exp))\n",
    "  )"
   ]
  },
  {
   "cell_type": "code",
   "execution_count": 21,
   "id": "a0ee95ea",
   "metadata": {
    "scrolled": false
   },
   "outputs": [
    {
     "data": {
      "text/html": [
       "<code>49</code>"
      ],
      "text/plain": [
       "49"
      ]
     },
     "execution_count": 21,
     "metadata": {},
     "output_type": "execute_result"
    }
   ],
   "source": [
    "(define sameAsPower2 (make-function-MinosMedianToN 0 2))\n",
    "(sameAsPower2  5) ; 25\n",
    "(sameAsPower2  7) ; 49"
   ]
  },
  {
   "cell_type": "code",
   "execution_count": 22,
   "id": "e3541ffc",
   "metadata": {},
   "outputs": [],
   "source": [
    "(define (median lst)\n",
    "  (/ (sum lst) (len lst))\n",
    "  )"
   ]
  },
  {
   "cell_type": "code",
   "execution_count": 23,
   "id": "8a57aef1",
   "metadata": {},
   "outputs": [
    {
     "data": {
      "text/html": [
       "<code>3</code>"
      ],
      "text/plain": [
       "3"
      ]
     },
     "execution_count": 23,
     "metadata": {},
     "output_type": "execute_result"
    }
   ],
   "source": [
    "(median '(1 2 3 4 5))"
   ]
  },
  {
   "cell_type": "code",
   "execution_count": 24,
   "id": "f4c89b73",
   "metadata": {},
   "outputs": [],
   "source": [
    "(define (des_std lst)\n",
    "  (define function (make-function-MinosMedianToN (median lst) 2))\n",
    "  (sqrt (/ (sum (applied lst function)) (len lst)))\n",
    "  )\n"
   ]
  },
  {
   "cell_type": "code",
   "execution_count": 25,
   "id": "06fcf1dc",
   "metadata": {
    "scrolled": true
   },
   "outputs": [
    {
     "data": {
      "text/html": [
       "<code>0.816496580927726</code>"
      ],
      "text/plain": [
       "0.816496580927726"
      ]
     },
     "execution_count": 25,
     "metadata": {},
     "output_type": "execute_result"
    }
   ],
   "source": [
    "(des_std '(2 3 4))"
   ]
  }
 ],
 "metadata": {
  "kernelspec": {
   "display_name": "Racket",
   "language": "racket",
   "name": "racket"
  },
  "language_info": {
   "codemirror_mode": "scheme",
   "file_extension": ".rkt",
   "mimetype": "text/x-racket",
   "name": "Racket",
   "pygments_lexer": "racket",
   "version": "7.2"
  }
 },
 "nbformat": 4,
 "nbformat_minor": 5
}
