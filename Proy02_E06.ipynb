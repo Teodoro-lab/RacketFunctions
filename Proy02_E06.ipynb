{
 "cells": [
  {
   "cell_type": "code",
   "execution_count": null,
   "id": "950f142e",
   "metadata": {},
   "outputs": [],
   "source": [
    "\n"
   ]
  },
  {
   "cell_type": "code",
   "execution_count": 33,
   "id": "400daf6a",
   "metadata": {},
   "outputs": [],
   "source": [
    ";funcion utilizada en el problema 5 & 1\n",
    "(define (fac n)\n",
    "  (if (<= n 1) 1 (* n (fac (- n 1))))\n",
    "  )"
   ]
  },
  {
   "cell_type": "markdown",
   "id": "2c27cd30",
   "metadata": {},
   "source": [
    "# Ejercicio 1\n",
    "Defina la función B que calcule los coeficientes binomiales $B(n,k)=\\frac{n!}{(n-k)!\\;k!}$ para $n \\geq 0,$$\\;\\;\\;$  y$\\;\\;\\;$$0 \\leq k \\leq n$\n",
    "\n",
    "### Entrada: \n",
    "...\n",
    "\n",
    "### Salida:\n",
    "..."
   ]
  },
  {
   "cell_type": "code",
   "execution_count": 34,
   "id": "f7773d78",
   "metadata": {},
   "outputs": [],
   "source": [
    "(define (coef_bin n k)\n",
    "  (cond\n",
    "      [(< n 0) (error 'nArgumentLessThan0)]\n",
    "      [(or (< k 0) (> k n)) (error 'kNumberNotInCorrectRange)]\n",
    "      [else (/ (fac n) (* (fac (- n k)) (fac k)))]\n",
    "   )\n",
    "  )"
   ]
  },
  {
   "cell_type": "code",
   "execution_count": 35,
   "id": "12ea3540",
   "metadata": {
    "scrolled": true
   },
   "outputs": [
    {
     "data": {
      "text/html": [
       "<code>4</code>"
      ],
      "text/plain": [
       "4"
      ]
     },
     "execution_count": 35,
     "metadata": {},
     "output_type": "execute_result"
    }
   ],
   "source": [
    "(coef_bin 4 3)"
   ]
  },
  {
   "cell_type": "markdown",
   "id": "24d2c2ee",
   "metadata": {},
   "source": [
    "# Ejercicio 2\n",
    "Defina una función para la evaluación del número combinatorio $C(n,k)$ que utiliza\n",
    "la definición recursiva:\n",
    "\n",
    "$C(n,0) = 1,$ $\\;\\;\\;\\;\\;\\;$ $C (n,n) = 1$\n",
    "\n",
    "$C(n,k) = C(n-1, k-1) + C(n-1,k),$$\\;\\;\\;\\;\\;\\;$$n \\geq 0,$$\\;\\;\\;\\;\\;\\;$$ k \\geq 0,$$\\;\\;\\;\\;\\;\\;$$ n \\geq k$\n",
    "### Entrada: \n",
    "...\n",
    "\n",
    "### Salida:\n",
    "..."
   ]
  },
  {
   "cell_type": "code",
   "execution_count": null,
   "id": "227b7c8b",
   "metadata": {},
   "outputs": [],
   "source": []
  },
  {
   "cell_type": "code",
   "execution_count": null,
   "id": "da623f8a",
   "metadata": {},
   "outputs": [],
   "source": []
  },
  {
   "cell_type": "markdown",
   "id": "5ea09250",
   "metadata": {},
   "source": [
    "# Ejercicio 3\n",
    "Defina una función recursiva para calcular el Máximo Común Divisor de dos enteros negativos $a$ y $b$ con $a<b$ usando el hecho de que $MCD(a, b) = MCD(a, b-a)$.\n",
    "### Entrada: \n",
    "...\n",
    "\n",
    "### Salida:\n",
    "..."
   ]
  },
  {
   "cell_type": "code",
   "execution_count": 36,
   "id": "05f05d90",
   "metadata": {},
   "outputs": [],
   "source": [
    "(define (euclydes a b)\n",
    "  \n",
    "  (cond\n",
    "   [(and (< a 0) (< b 0)) \n",
    "       (set! a (* -1 a))\n",
    "       (set! b (* -1 b))                       \n",
    "    ]\n",
    "   [(and (< a 0) (> b 0)) \n",
    "        (set! b (* -1 (+ (abs a) b)))\n",
    "    ]\n",
    "   [(and (> a 0) (< b 0)) \n",
    "        (define aux a)\n",
    "        (set! a b)\n",
    "        (set! b aux)        \n",
    "    ]\n",
    "   )\n",
    "  \n",
    "  \n",
    "  (define division (/ a b))\n",
    "  (define integerPart (floor division))\n",
    "  (define possibleResponse (- a (* integerPart b)))\n",
    "  \n",
    "  (if (= integerPart division)\n",
    "      b \n",
    "      (euclydes b possibleResponse)\n",
    "   )\n",
    "  \n",
    "  )"
   ]
  },
  {
   "cell_type": "code",
   "execution_count": null,
   "id": "ec65841a",
   "metadata": {},
   "outputs": [],
   "source": []
  },
  {
   "cell_type": "markdown",
   "id": "7b518639",
   "metadata": {},
   "source": [
    "# Ejercicio 4\n",
    "Definir una función que devuelva, en una lista, todos los números primos desde un\n",
    "número inicial hasta un número final, ejemplo: (primos 3 10) este ejemplo\n",
    "devolverá ‘(5 7).\n",
    "### Entrada: \n",
    "...\n",
    "\n",
    "### Salida:\n",
    "..."
   ]
  },
  {
   "cell_type": "code",
   "execution_count": 37,
   "id": "61b168fe",
   "metadata": {},
   "outputs": [],
   "source": [
    "(define (num_primos a b)\n",
    "  (define lista_primos'())\n",
    "(for([i (in-range a (+ 1 b))]) \n",
    "  (if (es_num_primo i 2)(set! lista_primos(cons i lista_primos)) null)\n",
    "    )\n",
    "  (reverse lista_primos)\n",
    "  )\n",
    "\n",
    "(define (es_num_primo a n)\n",
    "  (cond\n",
    "    [(< a 3) (if (= a 2) #t #f)]\n",
    "    [(= 0 (modulo a n)) #f]\n",
    "    [(< a (* n n)) #t]\n",
    "   [else (es_num_primo a (+ 1 n))]\n",
    "   )\n",
    "  )"
   ]
  },
  {
   "cell_type": "code",
   "execution_count": 38,
   "id": "4a2f22af",
   "metadata": {},
   "outputs": [
    {
     "data": {
      "text/html": [
       "<code>'(53 59 61 67 71 73 79 83 89 97)</code>"
      ],
      "text/plain": [
       "'(53 59 61 67 71 73 79 83 89 97)"
      ]
     },
     "execution_count": 38,
     "metadata": {},
     "output_type": "execute_result"
    }
   ],
   "source": [
    "(num_primos 50 100)"
   ]
  },
  {
   "cell_type": "markdown",
   "id": "27e72fc4",
   "metadata": {},
   "source": [
    "# Ejercicio 5\n",
    "Realizar una función para hallar el valor de $e$ definiendola como sigue:\n",
    "$e = \\frac {1}{0!} + \\frac {1}{1!} + \\frac {1}{2!} + \\frac {1}{3!} + ...$\n",
    "### Entrada: \n",
    "...\n",
    "\n",
    "### Salida:\n",
    "..."
   ]
  },
  {
   "cell_type": "code",
   "execution_count": 39,
   "id": "bf4035f7",
   "metadata": {},
   "outputs": [],
   "source": [
    "(define (funcE n)\n",
    "  (if (<= n 0) \n",
    "      (fac 0) \n",
    "      (+ (/ 1 (fac n)) (funcE (- n 1)))\n",
    "    )\n",
    "  )"
   ]
  },
  {
   "cell_type": "code",
   "execution_count": 40,
   "id": "94fe553c",
   "metadata": {
    "scrolled": true
   },
   "outputs": [
    {
     "data": {
      "text/html": [
       "<code>9864101/3628800</code>"
      ],
      "text/plain": [
       "9864101/3628800"
      ]
     },
     "execution_count": 40,
     "metadata": {},
     "output_type": "execute_result"
    }
   ],
   "source": [
    "(funcE 10)"
   ]
  },
  {
   "cell_type": "markdown",
   "id": "6101fc53",
   "metadata": {},
   "source": [
    "# Ejercicio 6\n",
    "Realizar una función que indique la longitud de una lista\n",
    "\n",
    "a. Ejemplo de entrada: (len ‘(2 4 5))\n",
    "\n",
    "b. Ejemplo de salida: 3\n",
    "### Entrada: \n",
    "...\n",
    "\n",
    "### Salida:\n",
    "..."
   ]
  },
  {
   "cell_type": "code",
   "execution_count": 41,
   "id": "773d9f29",
   "metadata": {},
   "outputs": [],
   "source": [
    "(define (len list)\n",
    "  (cond \n",
    "   [(null? list) 0]\n",
    "   [else (+ 1 (len (cdr list)))]\n",
    "   )\n",
    "  )"
   ]
  },
  {
   "cell_type": "code",
   "execution_count": 42,
   "id": "6da45a0c",
   "metadata": {},
   "outputs": [
    {
     "data": {
      "text/html": [
       "<code>3</code>"
      ],
      "text/plain": [
       "3"
      ]
     },
     "execution_count": 42,
     "metadata": {},
     "output_type": "execute_result"
    }
   ],
   "source": [
    "(len '(1 3 1))"
   ]
  },
  {
   "cell_type": "markdown",
   "id": "48e0f87d",
   "metadata": {},
   "source": [
    "# Ejercicio 7\n",
    "Realizar una función para buscar un elemento en una lista, regresar #t si lo encontró\n",
    "y #f si no lo encontró.\n",
    "\n",
    "a. Ejemplo de entrada: (busca 4 ‘(2 4 5))\n",
    "\n",
    "b. Ejemplo de salida: #t\n",
    "### Entrada: \n",
    "...\n",
    "\n",
    "### Salida:\n",
    "..."
   ]
  },
  {
   "cell_type": "code",
   "execution_count": 43,
   "id": "e23b8416",
   "metadata": {},
   "outputs": [],
   "source": [
    "(define (find elem list)\n",
    "  (cond \n",
    "   [(null? list) #f]\n",
    "   [(= elem (car list)) #t]\n",
    "   [else (find elem (cdr list))]\n",
    "   )\n",
    "  )"
   ]
  },
  {
   "cell_type": "code",
   "execution_count": 44,
   "id": "6b7eb94b",
   "metadata": {},
   "outputs": [
    {
     "data": {
      "text/html": [
       "<code>#t</code>"
      ],
      "text/plain": [
       "#t"
      ]
     },
     "execution_count": 44,
     "metadata": {},
     "output_type": "execute_result"
    }
   ],
   "source": [
    "(find 4 '( 3 1 4 1 ))"
   ]
  },
  {
   "cell_type": "markdown",
   "id": "3f20fecd",
   "metadata": {},
   "source": [
    "# Ejercicio 8\n",
    "Realizar una función recursiva en Lisp que invierta una lista.\n",
    "\n",
    "a. Ejemplo de entrada: (invierte ‘(2 4 5))\n",
    "\n",
    "b. Ejemplo de salida: (5 4 2)\n",
    "### Entrada: \n",
    "...\n",
    "\n",
    "### Salida:\n",
    "..."
   ]
  },
  {
   "cell_type": "code",
   "execution_count": 45,
   "id": "2e43f167",
   "metadata": {},
   "outputs": [],
   "source": [
    "(define (inverse lst)\n",
    "  (if (null? lst) '()\n",
    "      (append (inverse (cdr lst)) (list (car lst)))\n",
    "   )\n",
    "  )"
   ]
  },
  {
   "cell_type": "code",
   "execution_count": 46,
   "id": "d7e52069",
   "metadata": {},
   "outputs": [
    {
     "data": {
      "text/html": [
       "<code>'(5 4 3 2 1)</code>"
      ],
      "text/plain": [
       "'(5 4 3 2 1)"
      ]
     },
     "execution_count": 46,
     "metadata": {},
     "output_type": "execute_result"
    }
   ],
   "source": [
    "(inverse '(1 2 3 4 5))"
   ]
  },
  {
   "cell_type": "markdown",
   "id": "7bd5b8b3",
   "metadata": {},
   "source": [
    "# Ejercicio 9\n",
    "Realizar una función que elimine un elemento de una lista\n",
    "\n",
    "a. Ejemplo de entrada: (elimina 4 ‘(2 4 5))\n",
    "\n",
    "b. Ejemplo de salida: (2 5)\n",
    "### Entrada: \n",
    "...\n",
    "\n",
    "### Salida:\n",
    "..."
   ]
  },
  {
   "cell_type": "code",
   "execution_count": 47,
   "id": "4506b898",
   "metadata": {},
   "outputs": [],
   "source": [
    "(define (del elem lst)\n",
    "  (cond \n",
    "   [(null? lst) '()]\n",
    "   [(= elem (car lst)) (cdr lst)]\n",
    "   [else (append (list (car lst)) (del elem (cdr lst)))]\n",
    "   )\n",
    "  )"
   ]
  },
  {
   "cell_type": "code",
   "execution_count": 48,
   "id": "c030635e",
   "metadata": {
    "scrolled": false
   },
   "outputs": [
    {
     "data": {
      "text/html": [
       "<code>'(1 3 5)</code>"
      ],
      "text/plain": [
       "'(1 3 5)"
      ]
     },
     "execution_count": 48,
     "metadata": {},
     "output_type": "execute_result"
    }
   ],
   "source": [
    "(del 4 (del 4 '(1 3 5 4 4)))"
   ]
  },
  {
   "cell_type": "markdown",
   "id": "293fdbb2",
   "metadata": {},
   "source": [
    "# Ejercicio 10\n",
    "Defina una función para calcular la desviación estándar de un conjunto de datos *(lista)*. La fórmula es la siguiente:\n",
    "\n",
    "\n",
    "$$s = \\sqrt{\\frac{1}{n}\\sum_{i=1}^{n}i=(x - \\bar{x})^2}$$\n",
    "### Entrada: \n",
    "...\n",
    "\n",
    "### Salida:\n",
    "..."
   ]
  },
  {
   "cell_type": "code",
   "execution_count": 49,
   "id": "0221b42e",
   "metadata": {},
   "outputs": [],
   "source": [
    "(define (pot base exp)\n",
    "  (if (= exp 0) 1 (* base (pot base (- exp 1))))\n",
    ")"
   ]
  },
  {
   "cell_type": "code",
   "execution_count": 50,
   "id": "114717e2",
   "metadata": {},
   "outputs": [
    {
     "data": {
      "text/html": [
       "<code>16</code>"
      ],
      "text/plain": [
       "16"
      ]
     },
     "execution_count": 50,
     "metadata": {},
     "output_type": "execute_result"
    }
   ],
   "source": [
    "(pot 2 4)"
   ]
  },
  {
   "cell_type": "code",
   "execution_count": 51,
   "id": "8e70f107",
   "metadata": {},
   "outputs": [],
   "source": [
    "(define (applied lst func)\n",
    "  (if(null? lst) '()\n",
    "      (append (list (func (car lst))) (applied (cdr lst) func) )\n",
    "   )\n",
    "  )"
   ]
  },
  {
   "cell_type": "code",
   "execution_count": 52,
   "id": "0db2a7e8",
   "metadata": {},
   "outputs": [
    {
     "data": {
      "text/html": [
       "<code>'(1 4 9 16 25)</code>"
      ],
      "text/plain": [
       "'(1 4 9 16 25)"
      ]
     },
     "execution_count": 52,
     "metadata": {},
     "output_type": "execute_result"
    }
   ],
   "source": [
    "(define (to2 n)\n",
    "  (* n n)\n",
    "  )\n",
    "\n",
    "(applied '(1 2 3 4 5) to2)"
   ]
  },
  {
   "cell_type": "code",
   "execution_count": 53,
   "id": "24c3d928",
   "metadata": {},
   "outputs": [],
   "source": [
    "(define (sum lst)\n",
    "  (if (null? lst) 0\n",
    "     (+ (car lst) (sum (cdr lst)))\n",
    "  )\n",
    ")"
   ]
  },
  {
   "cell_type": "code",
   "execution_count": 54,
   "id": "900fe206",
   "metadata": {},
   "outputs": [
    {
     "data": {
      "text/html": [
       "<code>15</code>"
      ],
      "text/plain": [
       "15"
      ]
     },
     "execution_count": 54,
     "metadata": {},
     "output_type": "execute_result"
    }
   ],
   "source": [
    "(sum '(1 2 3 4 5))"
   ]
  },
  {
   "cell_type": "code",
   "execution_count": 55,
   "id": "8d2314dc",
   "metadata": {},
   "outputs": [],
   "source": [
    "(define (make-function-MinosMedianToN median exp)\n",
    "  (lambda (x) (pot (- x median) exp))\n",
    "  )"
   ]
  },
  {
   "cell_type": "code",
   "execution_count": 56,
   "id": "a0ee95ea",
   "metadata": {
    "scrolled": false
   },
   "outputs": [
    {
     "data": {
      "text/html": [
       "<code>49</code>"
      ],
      "text/plain": [
       "49"
      ]
     },
     "execution_count": 56,
     "metadata": {},
     "output_type": "execute_result"
    }
   ],
   "source": [
    "(define sameAsPower2 (make-function-MinosMedianToN 0 2))\n",
    "(sameAsPower2  5) ; 25\n",
    "(sameAsPower2  7) ; 49"
   ]
  },
  {
   "cell_type": "code",
   "execution_count": 57,
   "id": "e3541ffc",
   "metadata": {},
   "outputs": [],
   "source": [
    "(define (median lst)\n",
    "  (/ (sum lst) (len lst))\n",
    "  )"
   ]
  },
  {
   "cell_type": "code",
   "execution_count": 58,
   "id": "8a57aef1",
   "metadata": {},
   "outputs": [
    {
     "data": {
      "text/html": [
       "<code>3</code>"
      ],
      "text/plain": [
       "3"
      ]
     },
     "execution_count": 58,
     "metadata": {},
     "output_type": "execute_result"
    }
   ],
   "source": [
    "(median '(1 2 3 4 5))"
   ]
  },
  {
   "cell_type": "code",
   "execution_count": 59,
   "id": "f4c89b73",
   "metadata": {},
   "outputs": [],
   "source": [
    "(define (des_std lst)\n",
    "  (define function (make-function-MinosMedianToN (median lst) 2))\n",
    "  (sqrt (/ (sum (applied lst function)) (len lst)))\n",
    "  )\n"
   ]
  },
  {
   "cell_type": "code",
   "execution_count": 60,
   "id": "06fcf1dc",
   "metadata": {
    "scrolled": true
   },
   "outputs": [
    {
     "data": {
      "text/html": [
       "<code>0.816496580927726</code>"
      ],
      "text/plain": [
       "0.816496580927726"
      ]
     },
     "execution_count": 60,
     "metadata": {},
     "output_type": "execute_result"
    }
   ],
   "source": [
    "(des_std '(2 3 4))"
   ]
  }
 ],
 "metadata": {
  "kernelspec": {
   "display_name": "Racket",
   "language": "racket",
   "name": "racket"
  },
  "language_info": {
   "codemirror_mode": "scheme",
   "file_extension": ".rkt",
   "mimetype": "text/x-racket",
   "name": "Racket",
   "pygments_lexer": "racket",
   "version": "7.2"
  }
 },
 "nbformat": 4,
 "nbformat_minor": 5
}
